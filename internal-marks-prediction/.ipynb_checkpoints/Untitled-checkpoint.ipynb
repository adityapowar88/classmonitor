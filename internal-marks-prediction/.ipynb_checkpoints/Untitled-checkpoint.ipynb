{
 "cells": [
  {
   "cell_type": "code",
   "execution_count": 1,
   "id": "9a5af6fb",
   "metadata": {},
   "outputs": [],
   "source": [
    "import pandas as pd\n",
    "import numpy as np"
   ]
  },
  {
   "cell_type": "code",
   "execution_count": 2,
   "id": "1f2685ea",
   "metadata": {},
   "outputs": [
    {
     "ename": "ModuleNotFoundError",
     "evalue": "No module named 'html_table_parser'",
     "output_type": "error",
     "traceback": [
      "\u001b[1;31m---------------------------------------------------------------------------\u001b[0m",
      "\u001b[1;31mModuleNotFoundError\u001b[0m                       Traceback (most recent call last)",
      "Input \u001b[1;32mIn [2]\u001b[0m, in \u001b[0;36m<cell line: 10>\u001b[1;34m()\u001b[0m\n\u001b[0;32m      6\u001b[0m \u001b[38;5;28;01mfrom\u001b[39;00m \u001b[38;5;21;01mpprint\u001b[39;00m \u001b[38;5;28;01mimport\u001b[39;00m pprint\n\u001b[0;32m      8\u001b[0m \u001b[38;5;66;03m# for parsing all the tables present\u001b[39;00m\n\u001b[0;32m      9\u001b[0m \u001b[38;5;66;03m# on the website\u001b[39;00m\n\u001b[1;32m---> 10\u001b[0m \u001b[38;5;28;01mfrom\u001b[39;00m \u001b[38;5;21;01mhtml_table_parser\u001b[39;00m\u001b[38;5;21;01m.\u001b[39;00m\u001b[38;5;21;01mparser\u001b[39;00m \u001b[38;5;28;01mimport\u001b[39;00m HTMLTableParser\n\u001b[0;32m     12\u001b[0m \u001b[38;5;66;03m# for converting the parsed data in a\u001b[39;00m\n\u001b[0;32m     13\u001b[0m \u001b[38;5;66;03m# pandas dataframe\u001b[39;00m\n\u001b[0;32m     14\u001b[0m \u001b[38;5;28;01mimport\u001b[39;00m \u001b[38;5;21;01mpandas\u001b[39;00m \u001b[38;5;28;01mas\u001b[39;00m \u001b[38;5;21;01mpd\u001b[39;00m\n",
      "\u001b[1;31mModuleNotFoundError\u001b[0m: No module named 'html_table_parser'"
     ]
    }
   ],
   "source": [
    "# Library for opening url and creating\n",
    "# requests\n",
    "import urllib.request\n",
    "\n",
    "# pretty-print python data structures\n",
    "from pprint import pprint\n",
    "\n",
    "# for parsing all the tables present\n",
    "# on the website\n",
    "from html_table_parser.parser import HTMLTableParser\n",
    "\n",
    "# for converting the parsed data in a\n",
    "# pandas dataframe\n",
    "import pandas as pd\n",
    "\n",
    "\n",
    "# Opens a website and read its\n",
    "# binary contents (HTTP Response Body)\n",
    "def url_get_contents(url):\n",
    "\n",
    "  # Opens a website and read its\n",
    "  # binary contents (HTTP Response Body)\n",
    "\n",
    "  #making request to the website\n",
    "  req = urllib.request.Request(url=url)\n",
    "  f = urllib.request.urlopen(req)\n",
    "\n",
    "  #reading contents of the website\n",
    "  return f.read()\n",
    "\n",
    "# defining the html contents of a URL.\n",
    "xhtml = url_get_contents('https://www.moneycontrol.com/india\\\n",
    "/stockpricequote/refineries/relianceindustries/RI').decode('utf-8')\n",
    "\n",
    "# Defining the HTMLTableParser object\n",
    "p = HTMLTableParser()\n",
    "\n",
    "# feeding the html contents in the\n",
    "# HTMLTableParser object\n",
    "p.feed(xhtml)\n",
    "\n",
    "# Now finally obtaining the data of\n",
    "# the table required\n",
    "pprint(p.tables[1])\n",
    "\n",
    "# converting the parsed data to\n",
    "# dataframe\n",
    "print(\"\\n\\nPANDAS DATAFRAME\\n\")\n",
    "print(pd.DataFrame(p.tables[1]))\n"
   ]
  }
 ],
 "metadata": {
  "kernelspec": {
   "display_name": "Python 3 (ipykernel)",
   "language": "python",
   "name": "python3"
  },
  "language_info": {
   "codemirror_mode": {
    "name": "ipython",
    "version": 3
   },
   "file_extension": ".py",
   "mimetype": "text/x-python",
   "name": "python",
   "nbconvert_exporter": "python",
   "pygments_lexer": "ipython3",
   "version": "3.8.7"
  }
 },
 "nbformat": 4,
 "nbformat_minor": 5
}
